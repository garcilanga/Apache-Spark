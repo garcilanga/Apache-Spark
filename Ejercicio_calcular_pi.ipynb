{
 "cells": [
  {
   "cell_type": "markdown",
   "metadata": {},
   "source": [
    "# Calcualr el valor del número PI\n",
    "\n",
    "En este ejercicio vamos a realizar el cálculo del valor del numero PI.\n",
    "\n",
    "Para ello importaremos las librerías necesarias, iniciaremos contexto spark, ejecutaremos el proceso de cálculo y al finalizar detendremos el contexto spark. Además, calcularemos y mostraremos el tiempo transcurrido. "
   ]
  },
  {
   "cell_type": "code",
   "execution_count": 1,
   "metadata": {
    "collapsed": false
   },
   "outputs": [],
   "source": [
    "import findspark\n",
    "findspark.init()\n",
    "\n",
    "import pyspark\n",
    "\n",
    "import random\n",
    "import time"
   ]
  },
  {
   "cell_type": "code",
   "execution_count": 2,
   "metadata": {
    "collapsed": false
   },
   "outputs": [
    {
     "name": "stdout",
     "output_type": "stream",
     "text": [
      "Valor de PI: 3.14188176\n",
      "Tiempo de cálculo: 32.82 s.\n"
     ]
    }
   ],
   "source": [
    "def inside(p):     \n",
    "    x, y = random.random(), random.random()\n",
    "    return x*x + y*y < 1\n",
    "\n",
    "start_time = time.time()\n",
    "\n",
    "sc = pyspark.SparkContext(appName=\"Pi\")\n",
    "num_samples = 100 * 1000 * 1000\n",
    "count = sc.parallelize(range(0, num_samples)).filter(inside).count()\n",
    "sc.stop()\n",
    "\n",
    "end_time = time.time()\n",
    "\n",
    "pi = 4 * count / num_samples\n",
    "print('Valor de PI: %s' % pi)\n",
    "print('Tiempo de cálculo: %.2f s.' % (end_time - start_time))"
   ]
  },
  {
   "cell_type": "code",
   "execution_count": null,
   "metadata": {
    "collapsed": true
   },
   "outputs": [],
   "source": []
  }
 ],
 "metadata": {
  "kernelspec": {
   "display_name": "Python 3",
   "language": "python",
   "name": "python3"
  },
  "language_info": {
   "codemirror_mode": {
    "name": "ipython",
    "version": 3
   },
   "file_extension": ".py",
   "mimetype": "text/x-python",
   "name": "python",
   "nbconvert_exporter": "python",
   "pygments_lexer": "ipython3",
   "version": "3.6.3"
  }
 },
 "nbformat": 4,
 "nbformat_minor": 0
}
